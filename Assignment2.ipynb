{
  "nbformat": 4,
  "nbformat_minor": 0,
  "metadata": {
    "colab": {
      "provenance": []
    },
    "kernelspec": {
      "name": "python3",
      "display_name": "Python 3"
    },
    "language_info": {
      "name": "python"
    }
  },
  "cells": [
    {
      "cell_type": "markdown",
      "source": [
        "# Git and GitHub Assignment 2\n",
        "This notebook demonstrates basic Git operations."
      ],
      "metadata": {
        "id": "1GForZwi_z0S"
      }
    },
    {
      "cell_type": "code",
      "source": [
        "def multiply_numbers(a, b):\n",
        "    return a * b\n",
        "print(multiply_numbers(3, 4))"
      ],
      "metadata": {
        "colab": {
          "base_uri": "https://localhost:8080/"
        },
        "id": "tECKqmok_1WO",
        "outputId": "8a494f35-6ad8-4fed-ac91-0786edb6441c"
      },
      "execution_count": 1,
      "outputs": [
        {
          "output_type": "stream",
          "name": "stdout",
          "text": [
            "12\n"
          ]
        }
      ]
    }
  ]
}